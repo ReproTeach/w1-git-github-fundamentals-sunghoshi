{
 "cells": [
  {
   "cell_type": "code",
   "execution_count": 1,
   "id": "2dad6982-9493-43c0-9c03-65bc3ec46c22",
   "metadata": {
    "tags": []
   },
   "outputs": [],
   "source": [
    "import numpy as np"
   ]
  },
  {
   "cell_type": "code",
   "execution_count": 2,
   "id": "717ad835-c7df-4597-9a8d-7de7d749bfa4",
   "metadata": {
    "tags": []
   },
   "outputs": [
    {
     "name": "stdout",
     "output_type": "stream",
     "text": [
      "wtf is going\n"
     ]
    }
   ],
   "source": [
    "print(\"wtf is going\")"
   ]
  },
  {
   "cell_type": "code",
   "execution_count": null,
   "id": "68ba2300-147b-4994-b254-138c924cf7f6",
   "metadata": {},
   "outputs": [],
   "source": []
  }
 ],
 "metadata": {
  "kernelspec": {
   "display_name": "Python 3 (ipykernel)",
   "language": "python",
   "name": "python3"
  },
  "language_info": {
   "codemirror_mode": {
    "name": "ipython",
    "version": 3
   },
   "file_extension": ".py",
   "mimetype": "text/x-python",
   "name": "python",
   "nbconvert_exporter": "python",
   "pygments_lexer": "ipython3",
   "version": "3.10.9"
  }
 },
 "nbformat": 4,
 "nbformat_minor": 5
}

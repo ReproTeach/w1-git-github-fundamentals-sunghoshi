{
 "cells": [
  {
   "cell_type": "code",
   "execution_count": 1,
   "id": "2dad6982-9493-43c0-9c03-65bc3ec46c22",
   "metadata": {
    "tags": []
   },
   "outputs": [],
   "source": [
    "import numpy as np"
   ]
  },
  {
   "cell_type": "code",
   "execution_count": 1,
   "id": "68ba2300-147b-4994-b254-138c924cf7f6",
   "metadata": {},
   "outputs": [
    {
     "data": {
      "text/plain": [
       "'/home/jovyan/w1-git-github-fundamentals-sunghoshi'"
      ]
     },
     "execution_count": 1,
     "metadata": {},
     "output_type": "execute_result"
    }
   ],
   "source": [
    "pwd"
   ]
  },
  {
   "cell_type": "code",
   "execution_count": 2,
   "id": "6809a6bd-82ae-402d-ae59-cb147211b938",
   "metadata": {
    "tags": []
   },
   "outputs": [
    {
     "name": "stdout",
     "output_type": "stream",
     "text": [
      "README.md  Week1.ipynb\n"
     ]
    }
   ],
   "source": [
    "ls\n"
   ]
  },
  {
   "cell_type": "code",
   "execution_count": 3,
   "id": "d1acfabf-c5b4-4978-9d1f-2ebd8f77280f",
   "metadata": {
    "tags": []
   },
   "outputs": [
    {
     "name": "stdout",
     "output_type": "stream",
     "text": [
      "[Errno 20] Not a directory: 'README.md'\n",
      "/home/jovyan/w1-git-github-fundamentals-sunghoshi\n"
     ]
    }
   ],
   "source": [
    "cd README.md"
   ]
  },
  {
   "cell_type": "code",
   "execution_count": null,
   "id": "5401d084-431c-4bd5-b9df-a5514440b7af",
   "metadata": {},
   "outputs": [],
   "source": []
  }
 ],
 "metadata": {
  "kernelspec": {
   "display_name": "Python 3 (ipykernel)",
   "language": "python",
   "name": "python3"
  },
  "language_info": {
   "codemirror_mode": {
    "name": "ipython",
    "version": 3
   },
   "file_extension": ".py",
   "mimetype": "text/x-python",
   "name": "python",
   "nbconvert_exporter": "python",
   "pygments_lexer": "ipython3",
   "version": "3.10.9"
  }
 },
 "nbformat": 4,
 "nbformat_minor": 5
}
